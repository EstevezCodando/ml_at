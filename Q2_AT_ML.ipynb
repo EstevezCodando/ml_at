{
 "cells": [
  {
   "cell_type": "code",
   "execution_count": 8,
   "id": "9e8d6736",
   "metadata": {},
   "outputs": [],
   "source": [
    "import numpy as np\n",
    "import pandas as pd\n",
    "from ucimlrepo import fetch_ucirepo\n",
    "from sklearn.model_selection import train_test_split\n",
    "from sklearn.preprocessing import StandardScaler, OneHotEncoder\n",
    "from sklearn.impute import SimpleImputer\n",
    "from sklearn.neighbors import KNeighborsClassifier\n",
    "from sklearn.metrics import classification_report, accuracy_score\n",
    "import matplotlib.pyplot as plt\n",
    "import seaborn as sns\n",
    "\n"
   ]
  },
  {
   "cell_type": "markdown",
   "id": "c58e1856",
   "metadata": {},
   "source": [
    "Justificativa:\n",
    "\n",
    "    ucimlrepo nos dá acesso direto à base CDC.\n",
    "\n",
    "    scikit-learn contém as ferramentas de particionamento, pré-processamento e KNN.\n",
    "\n",
    "    matplotlib e seaborn para visualizações."
   ]
  },
  {
   "cell_type": "code",
   "execution_count": 9,
   "id": "4ef0a945",
   "metadata": {},
   "outputs": [
    {
     "name": "stdout",
     "output_type": "stream",
     "text": [
      "Formato de X: (253680, 21)\n",
      "Distribuição de classes em y:\n",
      " Diabetes_binary\n",
      "0    0.860667\n",
      "1    0.139333\n",
      "Name: proportion, dtype: float64\n"
     ]
    }
   ],
   "source": [
    "# 2.1 Fetch do dataset CDC Diabetes (UCI ID 891)\n",
    "cdc = fetch_ucirepo(id=891)\n",
    "\n",
    "# 2.2 Separação de features (X) e target (y)\n",
    "X = cdc.data.features.copy()\n",
    "y = cdc.data.targets.squeeze()  # transforma em Series para facilidade\n",
    "\n",
    "print(\"Formato de X:\", X.shape)\n",
    "print(\"Distribuição de classes em y:\\n\", y.value_counts(normalize=True))"
   ]
  },
  {
   "cell_type": "markdown",
   "id": "c205e0be",
   "metadata": {},
   "source": [
    "Justificativa na seleção de variáveis:\n",
    "Para esta etapa inicial, utilizamos todas as colunas disponíveis, pois indicadores clínicos (IMC, pressão, colesterol) e comportamentais (atividade, dieta) têm potencial preditivo relevante."
   ]
  },
  {
   "cell_type": "code",
   "execution_count": 10,
   "id": "02cac8db",
   "metadata": {},
   "outputs": [
    {
     "name": "stdout",
     "output_type": "stream",
     "text": [
      "Treino: (202944, 21) Teste: (50736, 21)\n",
      "Proporção treino: Diabetes_binary\n",
      "0    0.861\n",
      "1    0.139\n",
      "Name: proportion, dtype: float64\n",
      "Proporção teste: Diabetes_binary\n",
      "0    0.861\n",
      "1    0.139\n",
      "Name: proportion, dtype: float64\n"
     ]
    }
   ],
   "source": [
    "# 3.1 Split com stratify para manter proporção de classes\n",
    "X_train, X_test, y_train, y_test = train_test_split(\n",
    "    X, y,\n",
    "    test_size=0.2,\n",
    "    random_state=42,\n",
    "    stratify=y\n",
    ")\n",
    "\n",
    "print(\"Treino:\", X_train.shape, \"Teste:\", X_test.shape)\n",
    "print(\"Proporção treino:\", y_train.value_counts(normalize=True).round(3))\n",
    "print(\"Proporção teste:\", y_test.value_counts(normalize=True).round(3))"
   ]
  },
  {
   "cell_type": "markdown",
   "id": "7b890ac5",
   "metadata": {},
   "source": [
    "Por que estratificar?\n",
    "Quando há desequilíbrio (muito mais não-diabéticos do que diabéticos), a estratificação garante que a proporção de cada classe seja mantida em treino e teste, evitando viés de avaliação."
   ]
  },
  {
   "cell_type": "code",
   "execution_count": 11,
   "id": "8085427a",
   "metadata": {},
   "outputs": [
    {
     "name": "stdout",
     "output_type": "stream",
     "text": [
      "Colunas numéricas: ['HighBP', 'HighChol', 'CholCheck', 'BMI', 'Smoker', 'Stroke', 'HeartDiseaseorAttack', 'PhysActivity', 'Fruits', 'Veggies', 'HvyAlcoholConsump', 'AnyHealthcare', 'NoDocbcCost', 'GenHlth', 'MentHlth', 'PhysHlth', 'DiffWalk', 'Sex', 'Age', 'Education', 'Income']\n",
      "Colunas categóricas: []\n"
     ]
    }
   ],
   "source": [
    "num_cols = X.select_dtypes(include=['int64', 'float64']).columns.tolist()\n",
    "cat_cols = X.select_dtypes(include=['object', 'category']).columns.tolist()\n",
    "\n",
    "print(\"Colunas numéricas:\", num_cols)\n",
    "print(\"Colunas categóricas:\", cat_cols)"
   ]
  },
  {
   "cell_type": "code",
   "execution_count": 12,
   "id": "bcbe0c1a",
   "metadata": {},
   "outputs": [],
   "source": [
    "# 4.2.1 Imputar mediana\n",
    "imputer_num = SimpleImputer(strategy='median')\n",
    "X_train_num = imputer_num.fit_transform(X_train[num_cols])\n",
    "X_test_num  = imputer_num.transform(   X_test[num_cols])\n",
    "\n",
    "# 4.2.2 Escalar para média 0 e desvio 1\n",
    "scaler = StandardScaler()\n",
    "X_train_num = scaler.fit_transform(X_train_num)\n",
    "X_test_num  = scaler.transform(   X_test_num)"
   ]
  },
  {
   "cell_type": "markdown",
   "id": "42c1310a",
   "metadata": {},
   "source": [
    "Por que normalizar?\n",
    "O KNN calcula distâncias entre pontos; se uma feature tem escala muito maior, ela domina o cálculo de proximidade e distorce o modelo."
   ]
  },
  {
   "cell_type": "code",
   "execution_count": 14,
   "id": "696080e8",
   "metadata": {},
   "outputs": [
    {
     "name": "stdout",
     "output_type": "stream",
     "text": [
      "Nenhuma coluna categórica para processar.\n"
     ]
    }
   ],
   "source": [
    "# 4.3 Imputação e codificação das variáveis categóricas\n",
    "import numpy as np\n",
    "\n",
    "if len(cat_cols) > 0:\n",
    "    # 4.3.1 Imputar valor mais frequente\n",
    "    imputer_cat = SimpleImputer(strategy='most_frequent')\n",
    "    X_train_cat = imputer_cat.fit_transform(X_train[cat_cols])\n",
    "    X_test_cat  = imputer_cat.transform(   X_test[cat_cols])\n",
    "\n",
    "    # 4.3.2 One-Hot Encoding\n",
    "    encoder = OneHotEncoder(handle_unknown='ignore', sparse=False)\n",
    "    X_train_cat = encoder.fit_transform(X_train_cat)\n",
    "    X_test_cat  = encoder.transform(   X_test_cat)\n",
    "\n",
    "    print(\"Dimensões após encoding:\", X_train_cat.shape, X_test_cat.shape)\n",
    "\n",
    "else:\n",
    "    # Caso não existam colunas categóricas\n",
    "    X_train_cat = np.empty((X_train.shape[0], 0))\n",
    "    X_test_cat  = np.empty((X_test.shape[0], 0))\n",
    "    print(\"Nenhuma coluna categórica para processar.\")"
   ]
  },
  {
   "cell_type": "code",
   "execution_count": 15,
   "id": "e568fee5",
   "metadata": {},
   "outputs": [
    {
     "name": "stdout",
     "output_type": "stream",
     "text": [
      "Dimensões finais treino: (202944, 21)\n"
     ]
    }
   ],
   "source": [
    "# Concatena numéricas e categóricas\n",
    "X_train_proc = np.hstack([X_train_num, X_train_cat])\n",
    "X_test_proc  = np.hstack([X_test_num,  X_test_cat])\n",
    "\n",
    "print(\"Dimensões finais treino:\", X_train_proc.shape)\n"
   ]
  },
  {
   "cell_type": "code",
   "execution_count": null,
   "id": "27768bbc",
   "metadata": {},
   "outputs": [
    {
     "name": "stdout",
     "output_type": "stream",
     "text": [
      "Dimensões finais treino: (202944, 21)\n"
     ]
    }
   ],
   "source": [
    "# Concatena numéricas e categóricas\n",
    "X_train_proc = np.hstack([X_train_num, X_train_cat])\n",
    "X_test_proc  = np.hstack([X_test_num,  X_test_cat])\n",
    "\n",
    "print(\"Dimensões finais treino:\", X_train_proc.shape)\n"
   ]
  },
  {
   "cell_type": "code",
   "execution_count": 17,
   "id": "a0c0080a",
   "metadata": {},
   "outputs": [
    {
     "name": "stdout",
     "output_type": "stream",
     "text": [
      "Desempenho KNN (k=5):\n",
      "              precision    recall  f1-score   support\n",
      "\n",
      "           0       0.88      0.95      0.91     43667\n",
      "           1       0.41      0.22      0.28      7069\n",
      "\n",
      "    accuracy                           0.85     50736\n",
      "   macro avg       0.65      0.58      0.60     50736\n",
      "weighted avg       0.82      0.85      0.83     50736\n",
      "\n",
      "Acurácia: 0.8475835698517817\n"
     ]
    }
   ],
   "source": [
    "# 6.1 Treinar com k=5 inicialmente\n",
    "knn5 = KNeighborsClassifier(n_neighbors=5)\n",
    "knn5.fit(X_train_proc, y_train)\n",
    "\n",
    "# 6.2 Predição e relatório\n",
    "y_pred5 = knn5.predict(X_test_proc)\n",
    "print(\"Desempenho KNN (k=5):\")\n",
    "print(classification_report(y_test, y_pred5))\n",
    "print(\"Acurácia:\", accuracy_score(y_test, y_pred5))\n"
   ]
  },
  {
   "cell_type": "markdown",
   "id": "a36de861",
   "metadata": {},
   "source": [
    "Observação inicial:\n",
    "Este resultado serve de baseline antes de ajustarmos k."
   ]
  },
  {
   "cell_type": "code",
   "execution_count": 18,
   "id": "2841d56d",
   "metadata": {},
   "outputs": [
    {
     "data": {
      "image/png": "[encoded data removed]",
      "text/plain": [
       "<Figure size 800x500 with 1 Axes>"
      ]
     },
     "metadata": {},
     "output_type": "display_data"
    },
    {
     "name": "stdout",
     "output_type": "stream",
     "text": [
      "Melhor k: 20 com acurácia 0.8614\n"
     ]
    }
   ],
   "source": [
    "ks = list(range(1, 21))\n",
    "accuracies = []\n",
    "\n",
    "for k in ks:\n",
    "    knn = KNeighborsClassifier(n_neighbors=k)\n",
    "    knn.fit(X_train_proc, y_train)\n",
    "    pred = knn.predict(X_test_proc)\n",
    "    accuracies.append(accuracy_score(y_test, pred))\n",
    "\n",
    "# Plot da curva de acurácia vs k\n",
    "plt.figure(figsize=(8,5))\n",
    "plt.plot(ks, accuracies, marker='o')\n",
    "plt.title('KNN: Acurácia no Teste vs número de vizinhos')\n",
    "plt.xlabel('k (vizinhos)')\n",
    "plt.ylabel('Acurácia')\n",
    "plt.grid(True)\n",
    "plt.show()\n",
    "\n",
    "best_k = ks[np.argmax(accuracies)]\n",
    "print(f\"Melhor k: {best_k} com acurácia {max(accuracies):.4f}\")\n"
   ]
  },
  {
   "cell_type": "markdown",
   "id": "7965e287",
   "metadata": {},
   "source": [
    "Discussão:\n",
    "\n",
    "    Valores pequenos de k tendem a capturar ruído (alta variação).\n",
    "\n",
    "    Valores grandes suavizam demais (alto viés).\n",
    "\n",
    "    Escolhemos o k que maximiza a acurácia sem complicar a fronteira de decisão."
   ]
  },
  {
   "cell_type": "code",
   "execution_count": 19,
   "id": "a05bcc29",
   "metadata": {},
   "outputs": [
    {
     "name": "stdout",
     "output_type": "stream",
     "text": [
      "Desempenho Final do KNN:\n",
      "              precision    recall  f1-score   support\n",
      "\n",
      "           0       0.87      0.98      0.92     43667\n",
      "           1       0.51      0.11      0.17      7069\n",
      "\n",
      "    accuracy                           0.86     50736\n",
      "   macro avg       0.69      0.54      0.55     50736\n",
      "weighted avg       0.82      0.86      0.82     50736\n",
      "\n",
      "Acurácia Final: 0.8614001892147588\n"
     ]
    }
   ],
   "source": [
    "# 8.1 Treinar modelo final com o k ótimo\n",
    "knn_final = KNeighborsClassifier(n_neighbors=best_k)\n",
    "knn_final.fit(X_train_proc, y_train)\n",
    "\n",
    "# 8.2 Avaliação final\n",
    "y_pred_final = knn_final.predict(X_test_proc)\n",
    "print(\"Desempenho Final do KNN:\")\n",
    "print(classification_report(y_test, y_pred_final))\n",
    "print(\"Acurácia Final:\", accuracy_score(y_test, y_pred_final))\n"
   ]
  }
 ],
 "metadata": {
  "kernelspec": {
   "display_name": "infnet_ml",
   "language": "python",
   "name": "python3"
  },
  "language_info": {
   "codemirror_mode": {
    "name": "ipython",
    "version": 3
   },
   "file_extension": ".py",
   "mimetype": "text/x-python",
   "name": "python",
   "nbconvert_exporter": "python",
   "pygments_lexer": "ipython3",
   "version": "3.13.5"
  }
 },
 "nbformat": 4,
 "nbformat_minor": 5
}
